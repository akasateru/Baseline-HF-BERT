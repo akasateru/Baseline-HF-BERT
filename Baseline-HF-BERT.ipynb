{
 "cells": [
  {
   "cell_type": "markdown",
   "metadata": {},
   "source": [
    "# Baseline-HF-BERT"
   ]
  },
  {
   "cell_type": "code",
   "execution_count": 1,
   "metadata": {},
   "outputs": [],
   "source": [
    "from transformers import AutoTokenizer, TrainingArguments, Trainer, AutoModelForSequenceClassification, logging\n",
    "import numpy as np\n",
    "import re\n",
    "import string\n",
    "from nltk.corpus import wordnet\n",
    "from tqdm import tqdm\n",
    "from sklearn import metrics\n",
    "import csv\n",
    "import datasets"
   ]
  },
  {
   "cell_type": "code",
   "execution_count": 2,
   "metadata": {},
   "outputs": [],
   "source": [
    "np.random.seed(0)\n",
    "logging.set_verbosity_error()\n",
    "logging.set_verbosity_warning()\n",
    "HF_HUB_DISABLE_SYMLINKS_WARNING = True\n",
    "\n",
    "import datetime\n",
    "t_delta = datetime.timedelta(hours=9)\n",
    "JST = datetime.timezone(t_delta, 'JST')\n",
    "now = datetime.datetime.now(JST)"
   ]
  },
  {
   "cell_type": "code",
   "execution_count": 3,
   "metadata": {},
   "outputs": [],
   "source": [
    "# parameters\n",
    "MODEL = \"bert-base-uncased\"\n",
    "SAVED_MODEL = \"../model/Baseline-HF-BERT_\"+str(now.strftime('%Y%m%d%H%M%S'))\n",
    "EPOCH = 1\n",
    "BATCH_SIZE = 32"
   ]
  },
  {
   "cell_type": "code",
   "execution_count": 4,
   "metadata": {},
   "outputs": [
    {
     "name": "stdout",
     "output_type": "stream",
     "text": [
      "../model/Baseline-HF-BERT_20221122175047\n"
     ]
    }
   ],
   "source": [
    "print(SAVED_MODEL)"
   ]
  },
  {
   "cell_type": "markdown",
   "metadata": {},
   "source": [
    "# Load Datasets"
   ]
  },
  {
   "cell_type": "code",
   "execution_count": 5,
   "metadata": {},
   "outputs": [],
   "source": [
    "# 前処理\n",
    "def preprocessing(text):\n",
    "    # 括弧内文章の削除\n",
    "    text = re.sub(r'\\(.*\\)',' ',text)\n",
    "    text = re.sub(r'\\[.*\\]',' ',text)\n",
    "    text = re.sub(r'\\<.*\\>',' ',text)\n",
    "    text = re.sub(r'\\{.*\\}',' ',text)\n",
    "    # 記号文字の削除\n",
    "    text = text.translate(str.maketrans('','',string.punctuation))\n",
    "    # スペースの調整\n",
    "    text = re.sub(r'\\s+',' ',text)\n",
    "    return text"
   ]
  },
  {
   "cell_type": "code",
   "execution_count": 6,
   "metadata": {},
   "outputs": [
    {
     "name": "stdout",
     "output_type": "stream",
     "text": [
      "making train dataset...\n"
     ]
    },
    {
     "name": "stderr",
     "output_type": "stream",
     "text": [
      "100%|██████████| 1300000/1300000 [01:09<00:00, 18718.81it/s]\n"
     ]
    }
   ],
   "source": [
    "# preprocessing train data -----------------------------------------------------------------------\n",
    "# load topic class labels\n",
    "print(\"making train dataset...\")\n",
    "with open('../data/topic/classes.txt','r',encoding='utf-8') as f:\n",
    "    labels = f.read().splitlines()\n",
    "topic_class_hypothesis = dict()\n",
    "for i,label in enumerate(labels):\n",
    "    topic_class_hypothesis[i] = 'this text is about ' + ' or '.join([wordnet.synsets(word)[0].definition() for word in label.split(' & ')])\n",
    "\n",
    "# load train data\n",
    "with open('../data/topic/train_pu_half_v0.txt','r',encoding='utf-8') as f:\n",
    "    texts_v0 = f.read()\n",
    "with open('../data/topic/train_pu_half_v1.txt','r',encoding='utf-8') as f:\n",
    "    texts_v1 = f.read()\n",
    "texts = texts_v0 + texts_v1\n",
    "\n",
    "# # ## example -------------------------------------\n",
    "# import random\n",
    "# texts = texts.splitlines()\n",
    "# texts = random.sample(texts,100)\n",
    "# texts = \"\\n\".join(texts)\n",
    "# # ## ---------------------------------------------\n",
    "\n",
    "x_train, y_train = [],[]\n",
    "train_first, train_second = [],[]\n",
    "for label_text in tqdm(texts.splitlines()):\n",
    "    label,text = label_text.split('\\t')\n",
    "    rand_base = [0,1,2,3,4,5,6,7,8,9]\n",
    "    rand_base.remove(int(label))\n",
    "    label_rand = np.random.choice(rand_base)\n",
    "    train_first.append(preprocessing(text))\n",
    "    train_second.append(topic_class_hypothesis[int(label)])\n",
    "    y_train.append(float(1))\n",
    "    train_first.append(preprocessing(text))\n",
    "    train_second.append(topic_class_hypothesis[int(label_rand)])\n",
    "    y_train.append(float(0))"
   ]
  },
  {
   "cell_type": "code",
   "execution_count": 7,
   "metadata": {},
   "outputs": [
    {
     "name": "stderr",
     "output_type": "stream",
     "text": [
      "100%|██████████| 70000/70000 [00:13<00:00, 5040.03it/s]\n"
     ]
    }
   ],
   "source": [
    "# dbpedia class ------------------------------------------------------------------------------------------------------\n",
    "with open('../data/dbpedia_csv/classes.txt','r',encoding='utf-8') as f:\n",
    "    classes = f.read().splitlines()\n",
    "    dbpedia_class = ['this text is about '+text for text in classes]\n",
    "\n",
    "with open('../data/dbpedia_csv/test.csv','r',encoding='utf-8') as f:\n",
    "    reader = [r for r in csv.reader(f)]\n",
    "    \n",
    "# # # example -------------------\n",
    "# import random\n",
    "# reader = random.sample(reader,1000)\n",
    "# # #----------------------------\n",
    "\n",
    "x_test, y_test = [],[]\n",
    "test_first, test_second = [],[]\n",
    "for cls_num,auth,readtext in tqdm(reader,total=len(reader)):\n",
    "    for db_class in dbpedia_class:\n",
    "        text = readtext.replace(auth, \"\")\n",
    "        test_first.append(preprocessing(text))\n",
    "        test_second.append(db_class)\n",
    "    y_test.append(int(cls_num)-1)             "
   ]
  },
  {
   "cell_type": "code",
   "execution_count": 8,
   "metadata": {},
   "outputs": [
    {
     "data": {
      "application/vnd.jupyter.widget-view+json": {
       "model_id": "e90576d32dc244a1b0a9f2afbd4766cf",
       "version_major": 2,
       "version_minor": 0
      },
      "text/plain": [
       "  0%|          | 0/2600 [00:00<?, ?ba/s]"
      ]
     },
     "metadata": {},
     "output_type": "display_data"
    },
    {
     "data": {
      "application/vnd.jupyter.widget-view+json": {
       "model_id": "1793e5b58ff243148cfc64db1e480db0",
       "version_major": 2,
       "version_minor": 0
      },
      "text/plain": [
       "  0%|          | 0/980 [00:00<?, ?ba/s]"
      ]
     },
     "metadata": {},
     "output_type": "display_data"
    },
    {
     "name": "stdout",
     "output_type": "stream",
     "text": [
      "DatasetDict({\n",
      "    train: Dataset({\n",
      "        features: ['label', 'input_ids', 'token_type_ids', 'attention_mask'],\n",
      "        num_rows: 2600000\n",
      "    })\n",
      "    test: Dataset({\n",
      "        features: ['input_ids', 'token_type_ids', 'attention_mask'],\n",
      "        num_rows: 980000\n",
      "    })\n",
      "})\n"
     ]
    }
   ],
   "source": [
    "tokenizer = AutoTokenizer.from_pretrained(MODEL)\n",
    "\n",
    "train_dataset = datasets.Dataset.from_dict({\"first\":train_first, \"second\":train_second, \"label\":y_train})\n",
    "test_dataset = datasets.Dataset.from_dict({\"first\":test_first, \"second\":test_second})\n",
    "dataset = datasets.DatasetDict({\"train\":train_dataset, \"test\":test_dataset})\n",
    "\n",
    "def tokenize_function(examples):\n",
    "    return tokenizer(examples[\"first\"], examples[\"second\"], truncation=True, return_tensors=\"pt\", padding=\"max_length\", max_length=512)\n",
    "\n",
    "tokenized_datasets = dataset.map(tokenize_function, batched=True)\n",
    "tokenized_datasets = tokenized_datasets.remove_columns('first').remove_columns(\"second\")\n",
    "print(tokenized_datasets)\n",
    "\n",
    "small_train_dataset = tokenized_datasets[\"train\"].shuffle(seed=42) #.select(range(5000))\n",
    "small_eval_dataset = tokenized_datasets[\"test\"] #.select(range(1000))"
   ]
  },
  {
   "cell_type": "markdown",
   "metadata": {},
   "source": [
    "# Training"
   ]
  },
  {
   "cell_type": "code",
   "execution_count": 9,
   "metadata": {},
   "outputs": [
    {
     "name": "stderr",
     "output_type": "stream",
     "text": [
      "Some weights of the model checkpoint at bert-base-uncased were not used when initializing BertForSequenceClassification: ['cls.predictions.transform.dense.bias', 'cls.predictions.transform.dense.weight', 'cls.predictions.transform.LayerNorm.bias', 'cls.seq_relationship.bias', 'cls.predictions.transform.LayerNorm.weight', 'cls.predictions.bias', 'cls.seq_relationship.weight', 'cls.predictions.decoder.weight']\n",
      "- This IS expected if you are initializing BertForSequenceClassification from the checkpoint of a model trained on another task or with another architecture (e.g. initializing a BertForSequenceClassification model from a BertForPreTraining model).\n",
      "- This IS NOT expected if you are initializing BertForSequenceClassification from the checkpoint of a model that you expect to be exactly identical (initializing a BertForSequenceClassification model from a BertForSequenceClassification model).\n",
      "Some weights of BertForSequenceClassification were not initialized from the model checkpoint at bert-base-uncased and are newly initialized: ['classifier.weight', 'classifier.bias']\n",
      "You should probably TRAIN this model on a down-stream task to be able to use it for predictions and inference.\n"
     ]
    }
   ],
   "source": [
    "model = AutoModelForSequenceClassification.from_pretrained(MODEL, num_labels=1)"
   ]
  },
  {
   "cell_type": "code",
   "execution_count": 10,
   "metadata": {},
   "outputs": [],
   "source": [
    "import evaluate\n",
    "def compute_metrics(eval_pred):\n",
    "    logits, labels = eval_pred\n",
    "    predictions = np.where(0.5<=logits.squeeze(), 1, 0)\n",
    "    return evaluate.load(\"accuracy\").compute(predictions=predictions, references=labels)"
   ]
  },
  {
   "cell_type": "code",
   "execution_count": 11,
   "metadata": {},
   "outputs": [],
   "source": [
    "training_args = TrainingArguments(\n",
    "  output_dir=SAVED_MODEL,\n",
    "  num_train_epochs=EPOCH,\n",
    "  per_device_train_batch_size=BATCH_SIZE,\n",
    "  per_device_eval_batch_size=BATCH_SIZE,\n",
    "  evaluation_strategy=\"epoch\",\n",
    "  save_strategy=\"no\",\n",
    "  optim=\"adamw_torch\",\n",
    "  report_to=\"none\",\n",
    "  )\n",
    "\n",
    "trainer = Trainer(\n",
    "    model=model,\n",
    "    args=training_args,\n",
    "    train_dataset=small_train_dataset,\n",
    "    eval_dataset=small_train_dataset,\n",
    "    compute_metrics=compute_metrics,\n",
    ")"
   ]
  },
  {
   "cell_type": "code",
   "execution_count": 12,
   "metadata": {},
   "outputs": [
    {
     "name": "stderr",
     "output_type": "stream",
     "text": [
      "***** Running training *****\n",
      "  Num examples = 2600000\n",
      "  Num Epochs = 1\n",
      "  Instantaneous batch size per device = 32\n",
      "  Total train batch size (w. parallel, distributed & accumulation) = 32\n",
      "  Gradient Accumulation steps = 1\n",
      "  Total optimization steps = 81250\n",
      "  Number of trainable parameters = 109483009\n"
     ]
    },
    {
     "data": {
      "application/vnd.jupyter.widget-view+json": {
       "model_id": "b112b4f0197741aba61d8bc5ab2c8fe6",
       "version_major": 2,
       "version_minor": 0
      },
      "text/plain": [
       "  0%|          | 0/81250 [00:00<?, ?it/s]"
      ]
     },
     "metadata": {},
     "output_type": "display_data"
    },
    {
     "name": "stdout",
     "output_type": "stream",
     "text": [
      "{'loss': 0.1245, 'learning_rate': 4.969230769230769e-05, 'epoch': 0.01}\n",
      "{'loss': 0.0995, 'learning_rate': 4.9384615384615384e-05, 'epoch': 0.01}\n",
      "{'loss': 0.0961, 'learning_rate': 4.907692307692308e-05, 'epoch': 0.02}\n",
      "{'loss': 0.0909, 'learning_rate': 4.876923076923077e-05, 'epoch': 0.02}\n",
      "{'loss': 0.0879, 'learning_rate': 4.846153846153846e-05, 'epoch': 0.03}\n",
      "{'loss': 0.0908, 'learning_rate': 4.815384615384615e-05, 'epoch': 0.04}\n",
      "{'loss': 0.0879, 'learning_rate': 4.784615384615384e-05, 'epoch': 0.04}\n",
      "{'loss': 0.0859, 'learning_rate': 4.753846153846154e-05, 'epoch': 0.05}\n",
      "{'loss': 0.0867, 'learning_rate': 4.723076923076923e-05, 'epoch': 0.06}\n",
      "{'loss': 0.0845, 'learning_rate': 4.692307692307693e-05, 'epoch': 0.06}\n",
      "{'loss': 0.0869, 'learning_rate': 4.661538461538462e-05, 'epoch': 0.07}\n",
      "{'loss': 0.0854, 'learning_rate': 4.630769230769231e-05, 'epoch': 0.07}\n",
      "{'loss': 0.0854, 'learning_rate': 4.600000000000001e-05, 'epoch': 0.08}\n",
      "{'loss': 0.0828, 'learning_rate': 4.56923076923077e-05, 'epoch': 0.09}\n",
      "{'loss': 0.0847, 'learning_rate': 4.538461538461539e-05, 'epoch': 0.09}\n",
      "{'loss': 0.0871, 'learning_rate': 4.507692307692308e-05, 'epoch': 0.1}\n",
      "{'loss': 0.0795, 'learning_rate': 4.476923076923077e-05, 'epoch': 0.1}\n",
      "{'loss': 0.0853, 'learning_rate': 4.4461538461538466e-05, 'epoch': 0.11}\n",
      "{'loss': 0.0822, 'learning_rate': 4.415384615384616e-05, 'epoch': 0.12}\n",
      "{'loss': 0.0838, 'learning_rate': 4.384615384615385e-05, 'epoch': 0.12}\n",
      "{'loss': 0.0817, 'learning_rate': 4.353846153846154e-05, 'epoch': 0.13}\n",
      "{'loss': 0.0812, 'learning_rate': 4.323076923076923e-05, 'epoch': 0.14}\n",
      "{'loss': 0.0828, 'learning_rate': 4.2923076923076926e-05, 'epoch': 0.14}\n",
      "{'loss': 0.0837, 'learning_rate': 4.2615384615384617e-05, 'epoch': 0.15}\n",
      "{'loss': 0.0823, 'learning_rate': 4.230769230769231e-05, 'epoch': 0.15}\n",
      "{'loss': 0.0813, 'learning_rate': 4.2e-05, 'epoch': 0.16}\n",
      "{'loss': 0.0799, 'learning_rate': 4.169230769230769e-05, 'epoch': 0.17}\n",
      "{'loss': 0.0807, 'learning_rate': 4.1384615384615386e-05, 'epoch': 0.17}\n",
      "{'loss': 0.0804, 'learning_rate': 4.1076923076923076e-05, 'epoch': 0.18}\n",
      "{'loss': 0.0805, 'learning_rate': 4.0769230769230773e-05, 'epoch': 0.18}\n",
      "{'loss': 0.0809, 'learning_rate': 4.0461538461538464e-05, 'epoch': 0.19}\n",
      "{'loss': 0.0818, 'learning_rate': 4.0153846153846155e-05, 'epoch': 0.2}\n",
      "{'loss': 0.0799, 'learning_rate': 3.984615384615385e-05, 'epoch': 0.2}\n",
      "{'loss': 0.0801, 'learning_rate': 3.953846153846154e-05, 'epoch': 0.21}\n",
      "{'loss': 0.0815, 'learning_rate': 3.923076923076923e-05, 'epoch': 0.22}\n",
      "{'loss': 0.0799, 'learning_rate': 3.8923076923076924e-05, 'epoch': 0.22}\n",
      "{'loss': 0.079, 'learning_rate': 3.861538461538462e-05, 'epoch': 0.23}\n",
      "{'loss': 0.0791, 'learning_rate': 3.830769230769231e-05, 'epoch': 0.23}\n",
      "{'loss': 0.0793, 'learning_rate': 3.8e-05, 'epoch': 0.24}\n",
      "{'loss': 0.0791, 'learning_rate': 3.769230769230769e-05, 'epoch': 0.25}\n",
      "{'loss': 0.0772, 'learning_rate': 3.738461538461538e-05, 'epoch': 0.25}\n",
      "{'loss': 0.0795, 'learning_rate': 3.707692307692308e-05, 'epoch': 0.26}\n",
      "{'loss': 0.0776, 'learning_rate': 3.676923076923077e-05, 'epoch': 0.26}\n",
      "{'loss': 0.0781, 'learning_rate': 3.646153846153846e-05, 'epoch': 0.27}\n",
      "{'loss': 0.0765, 'learning_rate': 3.615384615384615e-05, 'epoch': 0.28}\n",
      "{'loss': 0.0775, 'learning_rate': 3.584615384615384e-05, 'epoch': 0.28}\n",
      "{'loss': 0.08, 'learning_rate': 3.553846153846154e-05, 'epoch': 0.29}\n",
      "{'loss': 0.0771, 'learning_rate': 3.523076923076923e-05, 'epoch': 0.3}\n",
      "{'loss': 0.0757, 'learning_rate': 3.492307692307693e-05, 'epoch': 0.3}\n",
      "{'loss': 0.077, 'learning_rate': 3.461538461538462e-05, 'epoch': 0.31}\n",
      "{'loss': 0.0789, 'learning_rate': 3.430769230769231e-05, 'epoch': 0.31}\n",
      "{'loss': 0.0774, 'learning_rate': 3.4000000000000007e-05, 'epoch': 0.32}\n",
      "{'loss': 0.075, 'learning_rate': 3.36923076923077e-05, 'epoch': 0.33}\n",
      "{'loss': 0.0757, 'learning_rate': 3.338461538461539e-05, 'epoch': 0.33}\n",
      "{'loss': 0.0776, 'learning_rate': 3.307692307692308e-05, 'epoch': 0.34}\n",
      "{'loss': 0.0748, 'learning_rate': 3.276923076923077e-05, 'epoch': 0.34}\n",
      "{'loss': 0.0762, 'learning_rate': 3.2461538461538466e-05, 'epoch': 0.35}\n",
      "{'loss': 0.0752, 'learning_rate': 3.215384615384616e-05, 'epoch': 0.36}\n",
      "{'loss': 0.0758, 'learning_rate': 3.184615384615385e-05, 'epoch': 0.36}\n",
      "{'loss': 0.079, 'learning_rate': 3.153846153846154e-05, 'epoch': 0.37}\n",
      "{'loss': 0.0786, 'learning_rate': 3.123076923076923e-05, 'epoch': 0.38}\n",
      "{'loss': 0.0755, 'learning_rate': 3.0923076923076926e-05, 'epoch': 0.38}\n",
      "{'loss': 0.0723, 'learning_rate': 3.0615384615384616e-05, 'epoch': 0.39}\n",
      "{'loss': 0.0761, 'learning_rate': 3.030769230769231e-05, 'epoch': 0.39}\n",
      "{'loss': 0.0768, 'learning_rate': 3e-05, 'epoch': 0.4}\n",
      "{'loss': 0.0742, 'learning_rate': 2.969230769230769e-05, 'epoch': 0.41}\n",
      "{'loss': 0.0759, 'learning_rate': 2.938461538461539e-05, 'epoch': 0.41}\n",
      "{'loss': 0.0771, 'learning_rate': 2.907692307692308e-05, 'epoch': 0.42}\n",
      "{'loss': 0.0749, 'learning_rate': 2.876923076923077e-05, 'epoch': 0.42}\n",
      "{'loss': 0.0765, 'learning_rate': 2.846153846153846e-05, 'epoch': 0.43}\n",
      "{'loss': 0.0758, 'learning_rate': 2.8153846153846154e-05, 'epoch': 0.44}\n",
      "{'loss': 0.0738, 'learning_rate': 2.7846153846153848e-05, 'epoch': 0.44}\n",
      "{'loss': 0.0756, 'learning_rate': 2.7538461538461542e-05, 'epoch': 0.45}\n",
      "{'loss': 0.0717, 'learning_rate': 2.7230769230769233e-05, 'epoch': 0.46}\n",
      "{'loss': 0.0739, 'learning_rate': 2.6923076923076923e-05, 'epoch': 0.46}\n",
      "{'loss': 0.0759, 'learning_rate': 2.6615384615384614e-05, 'epoch': 0.47}\n",
      "{'loss': 0.0721, 'learning_rate': 2.630769230769231e-05, 'epoch': 0.47}\n",
      "{'loss': 0.0748, 'learning_rate': 2.6000000000000002e-05, 'epoch': 0.48}\n",
      "{'loss': 0.0728, 'learning_rate': 2.5692307692307692e-05, 'epoch': 0.49}\n",
      "{'loss': 0.0733, 'learning_rate': 2.5384615384615383e-05, 'epoch': 0.49}\n",
      "{'loss': 0.074, 'learning_rate': 2.5076923076923077e-05, 'epoch': 0.5}\n",
      "{'loss': 0.0748, 'learning_rate': 2.476923076923077e-05, 'epoch': 0.5}\n",
      "{'loss': 0.0743, 'learning_rate': 2.4461538461538465e-05, 'epoch': 0.51}\n",
      "{'loss': 0.0752, 'learning_rate': 2.4153846153846155e-05, 'epoch': 0.52}\n",
      "{'loss': 0.0724, 'learning_rate': 2.384615384615385e-05, 'epoch': 0.52}\n",
      "{'loss': 0.0754, 'learning_rate': 2.353846153846154e-05, 'epoch': 0.53}\n",
      "{'loss': 0.0749, 'learning_rate': 2.323076923076923e-05, 'epoch': 0.54}\n",
      "{'loss': 0.0712, 'learning_rate': 2.2923076923076924e-05, 'epoch': 0.54}\n",
      "{'loss': 0.0754, 'learning_rate': 2.2615384615384615e-05, 'epoch': 0.55}\n",
      "{'loss': 0.0734, 'learning_rate': 2.230769230769231e-05, 'epoch': 0.55}\n",
      "{'loss': 0.072, 'learning_rate': 2.2000000000000003e-05, 'epoch': 0.56}\n",
      "{'loss': 0.0714, 'learning_rate': 2.1692307692307693e-05, 'epoch': 0.57}\n",
      "{'loss': 0.0722, 'learning_rate': 2.1384615384615387e-05, 'epoch': 0.57}\n",
      "{'loss': 0.0722, 'learning_rate': 2.1076923076923078e-05, 'epoch': 0.58}\n",
      "{'loss': 0.0739, 'learning_rate': 2.0769230769230772e-05, 'epoch': 0.58}\n",
      "{'loss': 0.0716, 'learning_rate': 2.0461538461538462e-05, 'epoch': 0.59}\n",
      "{'loss': 0.0713, 'learning_rate': 2.0153846153846153e-05, 'epoch': 0.6}\n",
      "{'loss': 0.0725, 'learning_rate': 1.9846153846153847e-05, 'epoch': 0.6}\n",
      "{'loss': 0.0718, 'learning_rate': 1.9538461538461537e-05, 'epoch': 0.61}\n",
      "{'loss': 0.0745, 'learning_rate': 1.923076923076923e-05, 'epoch': 0.62}\n",
      "{'loss': 0.0719, 'learning_rate': 1.8923076923076925e-05, 'epoch': 0.62}\n",
      "{'loss': 0.0723, 'learning_rate': 1.8615384615384616e-05, 'epoch': 0.63}\n",
      "{'loss': 0.0701, 'learning_rate': 1.830769230769231e-05, 'epoch': 0.63}\n",
      "{'loss': 0.0701, 'learning_rate': 1.8e-05, 'epoch': 0.64}\n",
      "{'loss': 0.0706, 'learning_rate': 1.7692307692307694e-05, 'epoch': 0.65}\n",
      "{'loss': 0.0708, 'learning_rate': 1.7384615384615385e-05, 'epoch': 0.65}\n",
      "{'loss': 0.0738, 'learning_rate': 1.7076923076923076e-05, 'epoch': 0.66}\n",
      "{'loss': 0.0708, 'learning_rate': 1.676923076923077e-05, 'epoch': 0.66}\n",
      "{'loss': 0.0725, 'learning_rate': 1.646153846153846e-05, 'epoch': 0.67}\n",
      "{'loss': 0.0716, 'learning_rate': 1.6153846153846154e-05, 'epoch': 0.68}\n",
      "{'loss': 0.0721, 'learning_rate': 1.5846153846153848e-05, 'epoch': 0.68}\n",
      "{'loss': 0.0705, 'learning_rate': 1.553846153846154e-05, 'epoch': 0.69}\n",
      "{'loss': 0.0743, 'learning_rate': 1.5230769230769232e-05, 'epoch': 0.7}\n",
      "{'loss': 0.0729, 'learning_rate': 1.4923076923076923e-05, 'epoch': 0.7}\n",
      "{'loss': 0.0712, 'learning_rate': 1.4615384615384617e-05, 'epoch': 0.71}\n",
      "{'loss': 0.0688, 'learning_rate': 1.4307692307692308e-05, 'epoch': 0.71}\n",
      "{'loss': 0.0712, 'learning_rate': 1.4000000000000001e-05, 'epoch': 0.72}\n",
      "{'loss': 0.07, 'learning_rate': 1.3692307692307694e-05, 'epoch': 0.73}\n",
      "{'loss': 0.0704, 'learning_rate': 1.3384615384615384e-05, 'epoch': 0.73}\n",
      "{'loss': 0.0693, 'learning_rate': 1.3076923076923078e-05, 'epoch': 0.74}\n",
      "{'loss': 0.0714, 'learning_rate': 1.2769230769230769e-05, 'epoch': 0.74}\n",
      "{'loss': 0.0706, 'learning_rate': 1.2461538461538463e-05, 'epoch': 0.75}\n",
      "{'loss': 0.0695, 'learning_rate': 1.2153846153846155e-05, 'epoch': 0.76}\n",
      "{'loss': 0.0683, 'learning_rate': 1.1846153846153847e-05, 'epoch': 0.76}\n",
      "{'loss': 0.0688, 'learning_rate': 1.153846153846154e-05, 'epoch': 0.77}\n",
      "{'loss': 0.0678, 'learning_rate': 1.123076923076923e-05, 'epoch': 0.78}\n",
      "{'loss': 0.0708, 'learning_rate': 1.0923076923076924e-05, 'epoch': 0.78}\n",
      "{'loss': 0.0728, 'learning_rate': 1.0615384615384616e-05, 'epoch': 0.79}\n",
      "{'loss': 0.0696, 'learning_rate': 1.0307692307692309e-05, 'epoch': 0.79}\n",
      "{'loss': 0.0685, 'learning_rate': 1e-05, 'epoch': 0.8}\n",
      "{'loss': 0.0701, 'learning_rate': 9.692307692307691e-06, 'epoch': 0.81}\n",
      "{'loss': 0.0694, 'learning_rate': 9.384615384615385e-06, 'epoch': 0.81}\n",
      "{'loss': 0.0684, 'learning_rate': 9.076923076923078e-06, 'epoch': 0.82}\n",
      "{'loss': 0.0721, 'learning_rate': 8.76923076923077e-06, 'epoch': 0.82}\n",
      "{'loss': 0.0708, 'learning_rate': 8.461538461538462e-06, 'epoch': 0.83}\n",
      "{'loss': 0.0684, 'learning_rate': 8.153846153846154e-06, 'epoch': 0.84}\n",
      "{'loss': 0.071, 'learning_rate': 7.846153846153847e-06, 'epoch': 0.84}\n",
      "{'loss': 0.0688, 'learning_rate': 7.538461538461539e-06, 'epoch': 0.85}\n",
      "{'loss': 0.0663, 'learning_rate': 7.230769230769231e-06, 'epoch': 0.86}\n",
      "{'loss': 0.0697, 'learning_rate': 6.923076923076923e-06, 'epoch': 0.86}\n",
      "{'loss': 0.0674, 'learning_rate': 6.6153846153846165e-06, 'epoch': 0.87}\n",
      "{'loss': 0.07, 'learning_rate': 6.307692307692308e-06, 'epoch': 0.87}\n",
      "{'loss': 0.07, 'learning_rate': 6e-06, 'epoch': 0.88}\n",
      "{'loss': 0.0677, 'learning_rate': 5.692307692307692e-06, 'epoch': 0.89}\n",
      "{'loss': 0.0706, 'learning_rate': 5.3846153846153855e-06, 'epoch': 0.89}\n",
      "{'loss': 0.0678, 'learning_rate': 5.076923076923077e-06, 'epoch': 0.9}\n",
      "{'loss': 0.0688, 'learning_rate': 4.769230769230769e-06, 'epoch': 0.9}\n",
      "{'loss': 0.0674, 'learning_rate': 4.4615384615384614e-06, 'epoch': 0.91}\n",
      "{'loss': 0.0674, 'learning_rate': 4.153846153846154e-06, 'epoch': 0.92}\n",
      "{'loss': 0.0692, 'learning_rate': 3.846153846153847e-06, 'epoch': 0.92}\n",
      "{'loss': 0.0692, 'learning_rate': 3.538461538461538e-06, 'epoch': 0.93}\n",
      "{'loss': 0.0713, 'learning_rate': 3.230769230769231e-06, 'epoch': 0.94}\n",
      "{'loss': 0.0674, 'learning_rate': 2.923076923076923e-06, 'epoch': 0.94}\n",
      "{'loss': 0.067, 'learning_rate': 2.6153846153846154e-06, 'epoch': 0.95}\n",
      "{'loss': 0.0661, 'learning_rate': 2.307692307692308e-06, 'epoch': 0.95}\n",
      "{'loss': 0.0684, 'learning_rate': 2.0000000000000003e-06, 'epoch': 0.96}\n",
      "{'loss': 0.0673, 'learning_rate': 1.6923076923076924e-06, 'epoch': 0.97}\n",
      "{'loss': 0.0674, 'learning_rate': 1.3846153846153846e-06, 'epoch': 0.97}\n",
      "{'loss': 0.0707, 'learning_rate': 1.0769230769230769e-06, 'epoch': 0.98}\n",
      "{'loss': 0.066, 'learning_rate': 7.692307692307694e-07, 'epoch': 0.98}\n",
      "{'loss': 0.0701, 'learning_rate': 4.615384615384616e-07, 'epoch': 0.99}\n",
      "{'loss': 0.0662, 'learning_rate': 1.5384615384615385e-07, 'epoch': 1.0}\n"
     ]
    },
    {
     "name": "stderr",
     "output_type": "stream",
     "text": [
      "***** Running Evaluation *****\n",
      "  Num examples = 2600000\n",
      "  Batch size = 32\n"
     ]
    },
    {
     "data": {
      "application/vnd.jupyter.widget-view+json": {
       "model_id": "3909eb71dad24b6da9e1877135fa5778",
       "version_major": 2,
       "version_minor": 0
      },
      "text/plain": [
       "  0%|          | 0/81250 [00:00<?, ?it/s]"
      ]
     },
     "metadata": {},
     "output_type": "display_data"
    },
    {
     "name": "stderr",
     "output_type": "stream",
     "text": [
      "\n",
      "\n",
      "Training completed. Do not forget to share your model on huggingface.co/models =)\n",
      "\n",
      "\n"
     ]
    },
    {
     "name": "stdout",
     "output_type": "stream",
     "text": [
      "{'eval_loss': 0.058641135692596436, 'eval_accuracy': 0.9226965384615384, 'eval_runtime': 20115.8635, 'eval_samples_per_second': 129.251, 'eval_steps_per_second': 4.039, 'epoch': 1.0}\n",
      "{'train_runtime': 76048.3767, 'train_samples_per_second': 34.189, 'train_steps_per_second': 1.068, 'train_loss': 0.07540145897498497, 'epoch': 1.0}\n"
     ]
    },
    {
     "data": {
      "text/plain": [
       "TrainOutput(global_step=81250, training_loss=0.07540145897498497, metrics={'train_runtime': 76048.3767, 'train_samples_per_second': 34.189, 'train_steps_per_second': 1.068, 'train_loss': 0.07540145897498497, 'epoch': 1.0})"
      ]
     },
     "execution_count": 12,
     "metadata": {},
     "output_type": "execute_result"
    }
   ],
   "source": [
    "trainer.train()"
   ]
  },
  {
   "cell_type": "code",
   "execution_count": 13,
   "metadata": {},
   "outputs": [
    {
     "name": "stderr",
     "output_type": "stream",
     "text": [
      "Configuration saved in ../model/Baseline-HF-BERT_20221122175047/config.json\n",
      "Model weights saved in ../model/Baseline-HF-BERT_20221122175047/pytorch_model.bin\n"
     ]
    }
   ],
   "source": [
    "model.save_pretrained(SAVED_MODEL)"
   ]
  },
  {
   "cell_type": "markdown",
   "metadata": {},
   "source": [
    "# Test"
   ]
  },
  {
   "cell_type": "code",
   "execution_count": 14,
   "metadata": {},
   "outputs": [
    {
     "name": "stderr",
     "output_type": "stream",
     "text": [
      "loading configuration file ../model/Baseline-HF-BERT_20221122175047/config.json\n",
      "Model config BertConfig {\n",
      "  \"_name_or_path\": \"../model/Baseline-HF-BERT_20221122175047\",\n",
      "  \"architectures\": [\n",
      "    \"BertForSequenceClassification\"\n",
      "  ],\n",
      "  \"attention_probs_dropout_prob\": 0.1,\n",
      "  \"classifier_dropout\": null,\n",
      "  \"gradient_checkpointing\": false,\n",
      "  \"hidden_act\": \"gelu\",\n",
      "  \"hidden_dropout_prob\": 0.1,\n",
      "  \"hidden_size\": 768,\n",
      "  \"id2label\": {\n",
      "    \"0\": \"LABEL_0\"\n",
      "  },\n",
      "  \"initializer_range\": 0.02,\n",
      "  \"intermediate_size\": 3072,\n",
      "  \"label2id\": {\n",
      "    \"LABEL_0\": 0\n",
      "  },\n",
      "  \"layer_norm_eps\": 1e-12,\n",
      "  \"max_position_embeddings\": 512,\n",
      "  \"model_type\": \"bert\",\n",
      "  \"num_attention_heads\": 12,\n",
      "  \"num_hidden_layers\": 12,\n",
      "  \"pad_token_id\": 0,\n",
      "  \"position_embedding_type\": \"absolute\",\n",
      "  \"problem_type\": \"regression\",\n",
      "  \"torch_dtype\": \"float32\",\n",
      "  \"transformers_version\": \"4.24.0\",\n",
      "  \"type_vocab_size\": 2,\n",
      "  \"use_cache\": true,\n",
      "  \"vocab_size\": 30522\n",
      "}\n",
      "\n",
      "loading weights file ../model/Baseline-HF-BERT_20221122175047/pytorch_model.bin\n",
      "All model checkpoint weights were used when initializing BertForSequenceClassification.\n",
      "\n",
      "All the weights of BertForSequenceClassification were initialized from the model checkpoint at ../model/Baseline-HF-BERT_20221122175047.\n",
      "If your task is similar to the task the model of the checkpoint was trained on, you can already use BertForSequenceClassification for predictions without further training.\n",
      "PyTorch: setting up devices\n"
     ]
    }
   ],
   "source": [
    "model = AutoModelForSequenceClassification.from_pretrained(SAVED_MODEL)\n",
    "\n",
    "test_args = TrainingArguments(output_dir=SAVED_MODEL,report_to=\"none\")\n",
    "trainer = Trainer(model=model, args=test_args)"
   ]
  },
  {
   "cell_type": "code",
   "execution_count": 15,
   "metadata": {},
   "outputs": [
    {
     "name": "stderr",
     "output_type": "stream",
     "text": [
      "***** Running Prediction *****\n",
      "  Num examples = 980000\n",
      "  Batch size = 8\n"
     ]
    },
    {
     "data": {
      "application/vnd.jupyter.widget-view+json": {
       "model_id": "ec684c8a1fd24187aa3062dfdce1f3f7",
       "version_major": 2,
       "version_minor": 0
      },
      "text/plain": [
       "  0%|          | 0/122500 [00:00<?, ?it/s]"
      ]
     },
     "metadata": {},
     "output_type": "display_data"
    }
   ],
   "source": [
    "pred = trainer.predict(small_eval_dataset)"
   ]
  },
  {
   "cell_type": "code",
   "execution_count": 16,
   "metadata": {},
   "outputs": [
    {
     "name": "stdout",
     "output_type": "stream",
     "text": [
      "              precision    recall  f1-score   support\n",
      "\n",
      "        Com.      0.733     0.675     0.703      5000\n",
      "        Edu.      0.215     0.978     0.353      5000\n",
      "        Art.      0.300     0.127     0.178      5000\n",
      "        Ath.      0.791     0.912     0.847      5000\n",
      "        Off.      0.638     0.774     0.700      5000\n",
      "        Mea.      0.781     0.010     0.020      5000\n",
      "        Bui.      0.951     0.136     0.237      5000\n",
      "        Nat.      0.494     0.070     0.123      5000\n",
      "        Vil.      0.967     0.146     0.254      5000\n",
      "        Ani.      0.060     0.008     0.014      5000\n",
      "        Pla.      0.396     0.982     0.564      5000\n",
      "        Alb.      0.617     0.715     0.662      5000\n",
      "        Fil.      0.667     0.930     0.777      5000\n",
      "        Wri.      0.393     0.050     0.088      5000\n",
      "\n",
      "    accuracy                          0.465     70000\n",
      "   macro avg      0.572     0.465     0.394     70000\n",
      "weighted avg      0.572     0.465     0.394     70000\n",
      "\n"
     ]
    }
   ],
   "source": [
    "split_pred = np.array_split(pred.predictions,len(y_test))\n",
    "y_pred = [np.argmax(p) for p in split_pred]\n",
    "\n",
    "target_names = [c[:3]+\".\" for c in classes]\n",
    "rep = metrics.classification_report(y_test,y_pred,target_names=target_names,digits=3)\n",
    "print(rep)"
   ]
  }
 ],
 "metadata": {
  "kernelspec": {
   "display_name": "Python 3.9.1 64-bit ('3.9.1')",
   "language": "python",
   "name": "python3"
  },
  "language_info": {
   "codemirror_mode": {
    "name": "ipython",
    "version": 3
   },
   "file_extension": ".py",
   "mimetype": "text/x-python",
   "name": "python",
   "nbconvert_exporter": "python",
   "pygments_lexer": "ipython3",
   "version": "3.9.1"
  },
  "orig_nbformat": 4,
  "vscode": {
   "interpreter": {
    "hash": "6ad87dd819912217535c9e765bf7b9ebff52cfacfae1ecabbf23377bfd4399d6"
   }
  }
 },
 "nbformat": 4,
 "nbformat_minor": 2
}
